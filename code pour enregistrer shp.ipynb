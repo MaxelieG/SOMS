{
 "cells": [
  {
   "cell_type": "code",
   "execution_count": 2,
   "metadata": {},
   "outputs": [],
   "source": [
    "import gdown\n",
    "\n",
    "url = \"https://drive.google.com/drive/u/0/folders/1sF8-P_Kb_pxahMKbpbsnHlJYGB1KxiZF\"\n"
   ]
  },
  {
   "cell_type": "code",
   "execution_count": 3,
   "metadata": {},
   "outputs": [
    {
     "name": "stderr",
     "output_type": "stream",
     "text": [
      "/Library/Frameworks/Python.framework/Versions/3.8/lib/python3.8/site-packages/gdown/parse_url.py:48: UserWarning: You specified a Google Drive link that is not the correct link to download a file. You might want to try `--fuzzy` option or the following url: https://drive.google.com/uc?id=None\n",
      "  warnings.warn(\n",
      "Downloading...\n",
      "From: https://drive.google.com/drive/u/0/folders/1sF8-P_Kb_pxahMKbpbsnHlJYGB1KxiZF\n",
      "To: /Users/maxeliegilbert/Documents/GitHub/SOMS/TRONCON_VOIE_FERREE.shp\n",
      "1.23MB [00:00, 9.97MB/s]\n"
     ]
    },
    {
     "data": {
      "text/plain": [
       "'TRONCON_VOIE_FERREE.shp'"
      ]
     },
     "execution_count": 3,
     "metadata": {},
     "output_type": "execute_result"
    }
   ],
   "source": [
    "output1 = \"TRONCON_VOIE_FERREE.shp\"\n",
    "gdown.download(url, output1, quiet=False)"
   ]
  },
  {
   "cell_type": "code",
   "execution_count": 4,
   "metadata": {},
   "outputs": [
    {
     "name": "stderr",
     "output_type": "stream",
     "text": [
      "Downloading...\n",
      "From: https://drive.google.com/drive/u/0/folders/1sF8-P_Kb_pxahMKbpbsnHlJYGB1KxiZF\n",
      "To: /Users/maxeliegilbert/Documents/GitHub/SOMS/TRONCON_ROUTE.shp\n",
      "1.23MB [00:00, 22.6MB/s]\n"
     ]
    },
    {
     "data": {
      "text/plain": [
       "'TRONCON_ROUTE.shp'"
      ]
     },
     "execution_count": 4,
     "metadata": {},
     "output_type": "execute_result"
    }
   ],
   "source": [
    "output2 =\"TRONCON_ROUTE.shp\"\n",
    "gdown.download(url, output2, quiet=False)"
   ]
  },
  {
   "cell_type": "code",
   "execution_count": 5,
   "metadata": {},
   "outputs": [
    {
     "name": "stderr",
     "output_type": "stream",
     "text": [
      "Downloading...\n",
      "From: https://drive.google.com/drive/u/0/folders/1sF8-P_Kb_pxahMKbpbsnHlJYGB1KxiZF\n",
      "To: /Users/maxeliegilbert/Documents/GitHub/SOMS/communes-20220101.shp\n",
      "1.23MB [00:00, 19.2MB/s]\n"
     ]
    },
    {
     "data": {
      "text/plain": [
       "'communes-20220101.shp'"
      ]
     },
     "execution_count": 5,
     "metadata": {},
     "output_type": "execute_result"
    }
   ],
   "source": [
    "\n",
    "output3 =\"communes-20220101.shp\"\n",
    "gdown.download(url, output3, quiet=False)"
   ]
  },
  {
   "cell_type": "code",
   "execution_count": 8,
   "metadata": {},
   "outputs": [
    {
     "name": "stderr",
     "output_type": "stream",
     "text": [
      "/Library/Frameworks/Python.framework/Versions/3.8/lib/python3.8/site-packages/gdown/parse_url.py:48: UserWarning: You specified a Google Drive link that is not the correct link to download a file. You might want to try `--fuzzy` option or the following url: https://drive.google.com/uc?id=None\n",
      "  warnings.warn(\n",
      "Downloading...\n",
      "From: https://drive.google.com/drive/u/0/folders/1sF8-P_Kb_pxahMKbpbsnHlJYGB1KxiZF\n",
      "To: /Users/maxeliegilbert/Documents/GitHub/SOMS/FD_MOBPRO_2019.csv\n",
      "1.23MB [00:00, 23.7MB/s]\n"
     ]
    },
    {
     "data": {
      "text/plain": [
       "'FD_MOBPRO_2019.csv'"
      ]
     },
     "execution_count": 8,
     "metadata": {},
     "output_type": "execute_result"
    }
   ],
   "source": [
    "output4 =\"FD_MOBPRO_2019.csv\"\n",
    "gdown.download(url, output4, quiet=False)"
   ]
  }
 ],
 "metadata": {
  "kernelspec": {
   "display_name": "Python 3",
   "language": "python",
   "name": "python3"
  },
  "language_info": {
   "codemirror_mode": {
    "name": "ipython",
    "version": 3
   },
   "file_extension": ".py",
   "mimetype": "text/x-python",
   "name": "python",
   "nbconvert_exporter": "python",
   "pygments_lexer": "ipython3",
   "version": "3.8.5"
  }
 },
 "nbformat": 4,
 "nbformat_minor": 2
}
