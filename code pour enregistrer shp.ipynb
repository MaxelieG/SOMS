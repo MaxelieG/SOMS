{
 "cells": [
  {
   "cell_type": "code",
   "execution_count": 2,
   "metadata": {},
   "outputs": [],
   "source": [
    "import gdown\n",
    "\n",
    "url = \"https://drive.google.com/drive/u/0/folders/1sF8-P_Kb_pxahMKbpbsnHlJYGB1KxiZF\"\n"
   ]
  },
  {
   "cell_type": "code",
   "execution_count": null,
   "metadata": {},
   "outputs": [
    {
     "name": "stderr",
     "output_type": "stream",
     "text": [
      "/Library/Frameworks/Python.framework/Versions/3.8/lib/python3.8/site-packages/gdown/parse_url.py:48: UserWarning: You specified a Google Drive link that is not the correct link to download a file. You might want to try `--fuzzy` option or the following url: https://drive.google.com/uc?id=None\n",
      "  warnings.warn(\n",
      "Downloading...\n",
      "From: https://drive.google.com/drive/u/0/folders/1sF8-P_Kb_pxahMKbpbsnHlJYGB1KxiZF\n",
      "To: /Users/maxeliegilbert/Documents/GitHub/SOMS/TRONCON_VOIE_FERREE.shp\n",
      "1.23MB [00:00, 9.97MB/s]\n"
     ]
    },
    {
     "data": {
      "text/plain": [
       "'TRONCON_VOIE_FERREE.shp'"
      ]
     },
     "execution_count": 3,
     "metadata": {},
     "output_type": "execute_result"
    }
   ],
   "source": [
    "output1 = \"TRONCON_VOIE_FERREE.shp\"\n",
    "#gdown.download(url, output1, quiet=False)"
   ]
  },
  {
   "cell_type": "code",
   "execution_count": null,
   "metadata": {},
   "outputs": [
    {
     "name": "stderr",
     "output_type": "stream",
     "text": [
      "Downloading...\n",
      "From: https://drive.google.com/drive/u/0/folders/1sF8-P_Kb_pxahMKbpbsnHlJYGB1KxiZF\n",
      "To: /Users/maxeliegilbert/Documents/GitHub/SOMS/TRONCON_ROUTE.shp\n",
      "1.23MB [00:00, 22.6MB/s]\n"
     ]
    },
    {
     "data": {
      "text/plain": [
       "'TRONCON_ROUTE.shp'"
      ]
     },
     "execution_count": 4,
     "metadata": {},
     "output_type": "execute_result"
    }
   ],
   "source": [
    "output2 =\"TRONCON_ROUTE.shp\"\n",
    "#gdown.download(url, output2, quiet=False)"
   ]
  },
  {
   "cell_type": "code",
   "execution_count": null,
   "metadata": {},
   "outputs": [
    {
     "name": "stderr",
     "output_type": "stream",
     "text": [
      "Downloading...\n",
      "From: https://drive.google.com/drive/u/0/folders/1sF8-P_Kb_pxahMKbpbsnHlJYGB1KxiZF\n",
      "To: /Users/maxeliegilbert/Documents/GitHub/SOMS/communes-20220101.shp\n",
      "1.23MB [00:00, 19.2MB/s]\n"
     ]
    },
    {
     "data": {
      "text/plain": [
       "'communes-20220101.shp'"
      ]
     },
     "execution_count": 5,
     "metadata": {},
     "output_type": "execute_result"
    }
   ],
   "source": [
    "\n",
    "output3 =\"communes-20220101.shp\"\n",
    "#gdown.download(url, output3, quiet=False)"
   ]
  },
  {
   "cell_type": "code",
   "execution_count": null,
   "metadata": {},
   "outputs": [
    {
     "name": "stderr",
     "output_type": "stream",
     "text": [
      "/Library/Frameworks/Python.framework/Versions/3.8/lib/python3.8/site-packages/gdown/parse_url.py:48: UserWarning: You specified a Google Drive link that is not the correct link to download a file. You might want to try `--fuzzy` option or the following url: https://drive.google.com/uc?id=None\n",
      "  warnings.warn(\n",
      "Downloading...\n",
      "From: https://drive.google.com/drive/u/0/folders/1sF8-P_Kb_pxahMKbpbsnHlJYGB1KxiZF\n",
      "To: /Users/maxeliegilbert/Documents/GitHub/SOMS/FD_MOBPRO_2019.csv\n",
      "1.23MB [00:00, 23.7MB/s]\n"
     ]
    },
    {
     "data": {
      "text/plain": [
       "'FD_MOBPRO_2019.csv'"
      ]
     },
     "execution_count": 8,
     "metadata": {},
     "output_type": "execute_result"
    }
   ],
   "source": [
    "output4 =\"FD_MOBPRO_2019.csv\"\n",
    "#gdown.download(url, output4, quiet=False)"
   ]
  },
  {
   "cell_type": "code",
   "execution_count": null,
   "metadata": {},
   "outputs": [
    {
     "name": "stderr",
     "output_type": "stream",
     "text": [
      "/Library/Frameworks/Python.framework/Versions/3.8/lib/python3.8/site-packages/gdown/parse_url.py:48: UserWarning: You specified a Google Drive link that is not the correct link to download a file. You might want to try `--fuzzy` option or the following url: https://drive.google.com/uc?id=None\n",
      "  warnings.warn(\n",
      "Downloading...\n",
      "From: https://drive.google.com/drive/u/0/folders/1sF8-P_Kb_pxahMKbpbsnHlJYGB1KxiZF\n",
      "To: /Users/maxeliegilbert/Documents/GitHub/SOMS/communes-20220101.shx\n",
      "1.23MB [00:00, 5.10MB/s]\n"
     ]
    },
    {
     "data": {
      "text/plain": [
       "'communes-20220101.shx'"
      ]
     },
     "execution_count": 3,
     "metadata": {},
     "output_type": "execute_result"
    }
   ],
   "source": [
    "output5 =\"communes-20220101.shx\"\n",
    "#gdown.download(url, output5, quiet=False)"
   ]
  },
  {
   "cell_type": "code",
   "execution_count": 4,
   "metadata": {},
   "outputs": [
    {
     "name": "stderr",
     "output_type": "stream",
     "text": [
      "Downloading...\n",
      "From: https://drive.google.com/drive/u/0/folders/1sF8-P_Kb_pxahMKbpbsnHlJYGB1KxiZF\n",
      "To: /Users/maxeliegilbert/Documents/GitHub/SOMS/communes-20220101.prj\n",
      "1.23MB [00:00, 13.0MB/s]\n"
     ]
    },
    {
     "data": {
      "text/plain": [
       "'communes-20220101.prj'"
      ]
     },
     "execution_count": 4,
     "metadata": {},
     "output_type": "execute_result"
    }
   ],
   "source": [
    "output6 =\"communes-20220101.prj\"\n",
    "#gdown.download(url, output6, quiet=False)"
   ]
  },
  {
   "cell_type": "code",
   "execution_count": 5,
   "metadata": {},
   "outputs": [
    {
     "name": "stderr",
     "output_type": "stream",
     "text": [
      "Downloading...\n",
      "From: https://drive.google.com/drive/u/0/folders/1sF8-P_Kb_pxahMKbpbsnHlJYGB1KxiZF\n",
      "To: /Users/maxeliegilbert/Documents/GitHub/SOMS/communes-20220101.dbf\n",
      "1.23MB [00:00, 35.5MB/s]\n"
     ]
    },
    {
     "data": {
      "text/plain": [
       "'communes-20220101.dbf'"
      ]
     },
     "execution_count": 5,
     "metadata": {},
     "output_type": "execute_result"
    }
   ],
   "source": [
    "output7 =\"communes-20220101.dbf\"\n",
    "#gdown.download(url, output7, quiet=False)"
   ]
  },
  {
   "cell_type": "code",
   "execution_count": 6,
   "metadata": {},
   "outputs": [
    {
     "name": "stderr",
     "output_type": "stream",
     "text": [
      "/Library/Frameworks/Python.framework/Versions/3.8/lib/python3.8/site-packages/gdown/parse_url.py:48: UserWarning: You specified a Google Drive link that is not the correct link to download a file. You might want to try `--fuzzy` option or the following url: https://drive.google.com/uc?id=None\n",
      "  warnings.warn(\n",
      "Downloading...\n",
      "From: https://drive.google.com/drive/u/0/folders/1sF8-P_Kb_pxahMKbpbsnHlJYGB1KxiZF\n",
      "To: /Users/maxeliegilbert/Documents/GitHub/SOMS/TRONCON_VOIE_FERREE.prj\n",
      "1.23MB [00:00, 23.2MB/s]\n"
     ]
    },
    {
     "data": {
      "text/plain": [
       "'TRONCON_VOIE_FERREE.prj'"
      ]
     },
     "execution_count": 6,
     "metadata": {},
     "output_type": "execute_result"
    }
   ],
   "source": [
    "output8 =\"TRONCON_VOIE_FERREE.prj\"\n",
    "#gdown.download(url, output8, quiet=False)"
   ]
  },
  {
   "cell_type": "code",
   "execution_count": 7,
   "metadata": {},
   "outputs": [
    {
     "name": "stderr",
     "output_type": "stream",
     "text": [
      "Downloading...\n",
      "From: https://drive.google.com/drive/u/0/folders/1sF8-P_Kb_pxahMKbpbsnHlJYGB1KxiZF\n",
      "To: /Users/maxeliegilbert/Documents/GitHub/SOMS/TRONCON_VOIE_FERREE.dbf\n",
      "1.23MB [00:00, 35.1MB/s]\n"
     ]
    },
    {
     "data": {
      "text/plain": [
       "'TRONCON_VOIE_FERREE.dbf'"
      ]
     },
     "execution_count": 7,
     "metadata": {},
     "output_type": "execute_result"
    }
   ],
   "source": [
    "output9 =\"TRONCON_VOIE_FERREE.dbf\"\n",
    "#gdown.download(url, output9, quiet=False)"
   ]
  },
  {
   "cell_type": "code",
   "execution_count": 8,
   "metadata": {},
   "outputs": [
    {
     "name": "stderr",
     "output_type": "stream",
     "text": [
      "Downloading...\n",
      "From: https://drive.google.com/drive/u/0/folders/1sF8-P_Kb_pxahMKbpbsnHlJYGB1KxiZF\n",
      "To: /Users/maxeliegilbert/Documents/GitHub/SOMS/TRONCON_VOIE_FERREE.cpg\n",
      "1.23MB [00:00, 17.6MB/s]\n"
     ]
    },
    {
     "data": {
      "text/plain": [
       "'TRONCON_VOIE_FERREE.cpg'"
      ]
     },
     "execution_count": 8,
     "metadata": {},
     "output_type": "execute_result"
    }
   ],
   "source": [
    "output8 =\"TRONCON_VOIE_FERREE.cpg\"\n",
    "#gdown.download(url, output8, quiet=False)"
   ]
  }
 ],
 "metadata": {
  "kernelspec": {
   "display_name": "Python 3",
   "language": "python",
   "name": "python3"
  },
  "language_info": {
   "codemirror_mode": {
    "name": "ipython",
    "version": 3
   },
   "file_extension": ".py",
   "mimetype": "text/x-python",
   "name": "python",
   "nbconvert_exporter": "python",
   "pygments_lexer": "ipython3",
   "version": "3.8.5"
  }
 },
 "nbformat": 4,
 "nbformat_minor": 2
}
